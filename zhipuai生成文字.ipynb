{
 "cells": [
  {
   "cell_type": "code",
   "execution_count": 5,
   "id": "b2d35a59-59e7-43dd-8aa7-f3c6d3bc4e14",
   "metadata": {},
   "outputs": [
    {
     "name": "stdout",
     "output_type": "stream",
     "text": [
      "Looking in indexes: https://mirrors.tuna.tsinghua.edu.cn/pypi/web/simple\n",
      "Requirement already satisfied: ZhipuAI in c:\\programdata\\anaconda3\\lib\\site-packages (2.1.5.20230904)\n",
      "Requirement already satisfied: pyjwt<2.9.0,>=2.8.0 in c:\\programdata\\anaconda3\\lib\\site-packages (from ZhipuAI) (2.8.0)\n",
      "Requirement already satisfied: pydantic<3.0,>=1.9.0 in c:\\programdata\\anaconda3\\lib\\site-packages (from ZhipuAI) (2.9.2)\n",
      "Requirement already satisfied: pydantic-core>=2.14.6 in c:\\programdata\\anaconda3\\lib\\site-packages (from ZhipuAI) (2.23.4)\n",
      "Requirement already satisfied: httpx>=0.23.0 in c:\\programdata\\anaconda3\\lib\\site-packages (from ZhipuAI) (0.27.2)\n",
      "Requirement already satisfied: cachetools>=4.2.2 in c:\\programdata\\anaconda3\\lib\\site-packages (from ZhipuAI) (5.5.0)\n",
      "Requirement already satisfied: sniffio in c:\\programdata\\anaconda3\\lib\\site-packages (from httpx>=0.23.0->ZhipuAI) (1.2.0)\n",
      "Requirement already satisfied: anyio in c:\\programdata\\anaconda3\\lib\\site-packages (from httpx>=0.23.0->ZhipuAI) (3.5.0)\n",
      "Requirement already satisfied: certifi in c:\\programdata\\anaconda3\\lib\\site-packages (from httpx>=0.23.0->ZhipuAI) (2022.9.14)\n",
      "Requirement already satisfied: idna in c:\\programdata\\anaconda3\\lib\\site-packages (from httpx>=0.23.0->ZhipuAI) (3.3)\n",
      "Requirement already satisfied: httpcore==1.* in c:\\programdata\\anaconda3\\lib\\site-packages (from httpx>=0.23.0->ZhipuAI) (1.0.7)\n",
      "Requirement already satisfied: h11<0.15,>=0.13 in c:\\programdata\\anaconda3\\lib\\site-packages (from httpcore==1.*->httpx>=0.23.0->ZhipuAI) (0.14.0)\n",
      "Requirement already satisfied: annotated-types>=0.6.0 in c:\\programdata\\anaconda3\\lib\\site-packages (from pydantic<3.0,>=1.9.0->ZhipuAI) (0.7.0)\n",
      "Requirement already satisfied: typing-extensions>=4.6.1 in c:\\programdata\\anaconda3\\lib\\site-packages (from pydantic<3.0,>=1.9.0->ZhipuAI) (4.12.2)\n",
      "Note: you may need to restart the kernel to use updated packages.\n"
     ]
    }
   ],
   "source": [
    "pip install ZhipuAI"
   ]
  },
  {
   "cell_type": "code",
   "execution_count": 9,
   "id": "2d8043ad-0ed4-44b5-8aa4-cfb6634f7385",
   "metadata": {},
   "outputs": [],
   "source": [
    "import os\n",
    "from zhipuai import ZhipuAI\n",
    "import base64\n",
    "os.environ[\"ZHIPUAI_API_KEY\"]=\"ebb72a1d5f4b1408888f85180bb85148.lkHMAX75wvec1JTe\"\n",
    "client=ZhipuAI()"
   ]
  },
  {
   "cell_type": "code",
   "execution_count": 32,
   "id": "03e78a91-ffd4-4d3e-a259-1e6793ad333e",
   "metadata": {},
   "outputs": [
    {
     "name": "stdout",
     "output_type": "stream",
     "text": [
      "需要等待10秒。。。。。。\n",
      "CompletionMessage(content='画面中一个穿着灰色上衣的男子坐在椅子上，背对着镜头，他右手拿着一支笔，左手放在桌子上。然后他向左转头，看向电脑屏幕。接着他又转过头去，面向前方。画面前景右侧是一个穿着黑白相间外套的人的上半身，他的头被切掉了。背景中可以看到一些桌子和椅子，以及窗户上的窗帘。', role='assistant', tool_calls=None)\n"
     ]
    }
   ],
   "source": [
    "video_path=r\"C:\\Users\\Administrator\\Desktop\\1183098776.mp4\"\n",
    "with open(video_path,'rb') as video_file:\n",
    "    video_base = base64.b64encode(video_file.read()).decode('UTF-8')\n",
    "    \n",
    "print(\"需要等待10秒。。。。。。\")\n",
    "\n",
    "response = client.chat.completions.create(\n",
    "    model=\"glm-4v-plus\",\n",
    "    temperature=0.0,\n",
    "    top_p=0,\n",
    "    \n",
    "    messages=[{\n",
    "        \"role\":\"user\",\n",
    "        \"content\":[{\n",
    "            \"type\":\"video_url\",\n",
    "            \"video_url\":{\"url\":video_base}\n",
    "        },{\n",
    "            \"type\":\"text\",\n",
    "            \"text\":\"请仔细描述这个视频的环境，图中人物在干啥，请讲给我听\"\n",
    "        }]\n",
    "    }]\n",
    ")\n",
    "print(response.choices[0].message)"
   ]
  },
  {
   "cell_type": "code",
   "execution_count": null,
   "id": "dc166862-969f-47a0-928d-42faf09ae678",
   "metadata": {},
   "outputs": [],
   "source": []
  }
 ],
 "metadata": {
  "kernelspec": {
   "display_name": "Python 3 (ipykernel)",
   "language": "python",
   "name": "python3"
  },
  "language_info": {
   "codemirror_mode": {
    "name": "ipython",
    "version": 3
   },
   "file_extension": ".py",
   "mimetype": "text/x-python",
   "name": "python",
   "nbconvert_exporter": "python",
   "pygments_lexer": "ipython3",
   "version": "3.9.13"
  }
 },
 "nbformat": 4,
 "nbformat_minor": 5
}
